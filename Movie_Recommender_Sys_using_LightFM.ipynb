{
  "nbformat": 4,
  "nbformat_minor": 0,
  "metadata": {
    "colab": {
      "name": "Movie Recommender Sys using LightFM.ipynb",
      "provenance": [],
      "collapsed_sections": [],
      "authorship_tag": "ABX9TyMsPbzhxv6pSj4vgGyBmGln",
      "include_colab_link": true
    },
    "kernelspec": {
      "name": "python3",
      "display_name": "Python 3"
    }
  },
  "cells": [
    {
      "cell_type": "markdown",
      "metadata": {
        "id": "view-in-github",
        "colab_type": "text"
      },
      "source": [
        "<a href=\"https://colab.research.google.com/github/Manan1811/Movie-Recommender-System--LightFM/blob/master/Movie_Recommender_Sys_using_LightFM.ipynb\" target=\"_parent\"><img src=\"https://colab.research.google.com/assets/colab-badge.svg\" alt=\"Open In Colab\"/></a>"
      ]
    },
    {
      "cell_type": "code",
      "metadata": {
        "id": "ZsTJb9SqiwBf",
        "colab_type": "code",
        "colab": {
          "base_uri": "https://localhost:8080/",
          "height": 302
        },
        "outputId": "eb346070-6368-4bfa-cffb-70a8dba3a2f2"
      },
      "source": [
        "!pip install lightfm"
      ],
      "execution_count": null,
      "outputs": [
        {
          "output_type": "stream",
          "text": [
            "Collecting lightfm\n",
            "\u001b[?25l  Downloading https://files.pythonhosted.org/packages/e9/8e/5485ac5a8616abe1c673d1e033e2f232b4319ab95424b42499fabff2257f/lightfm-1.15.tar.gz (302kB)\n",
            "\r\u001b[K     |█                               | 10kB 18.2MB/s eta 0:00:01\r\u001b[K     |██▏                             | 20kB 1.7MB/s eta 0:00:01\r\u001b[K     |███▎                            | 30kB 2.3MB/s eta 0:00:01\r\u001b[K     |████▍                           | 40kB 2.5MB/s eta 0:00:01\r\u001b[K     |█████▍                          | 51kB 2.0MB/s eta 0:00:01\r\u001b[K     |██████▌                         | 61kB 2.3MB/s eta 0:00:01\r\u001b[K     |███████▋                        | 71kB 2.5MB/s eta 0:00:01\r\u001b[K     |████████▊                       | 81kB 2.7MB/s eta 0:00:01\r\u001b[K     |█████████▊                      | 92kB 2.9MB/s eta 0:00:01\r\u001b[K     |██████████▉                     | 102kB 2.8MB/s eta 0:00:01\r\u001b[K     |████████████                    | 112kB 2.8MB/s eta 0:00:01\r\u001b[K     |█████████████                   | 122kB 2.8MB/s eta 0:00:01\r\u001b[K     |██████████████                  | 133kB 2.8MB/s eta 0:00:01\r\u001b[K     |███████████████▏                | 143kB 2.8MB/s eta 0:00:01\r\u001b[K     |████████████████▎               | 153kB 2.8MB/s eta 0:00:01\r\u001b[K     |█████████████████▍              | 163kB 2.8MB/s eta 0:00:01\r\u001b[K     |██████████████████▍             | 174kB 2.8MB/s eta 0:00:01\r\u001b[K     |███████████████████▌            | 184kB 2.8MB/s eta 0:00:01\r\u001b[K     |████████████████████▋           | 194kB 2.8MB/s eta 0:00:01\r\u001b[K     |█████████████████████▊          | 204kB 2.8MB/s eta 0:00:01\r\u001b[K     |██████████████████████▊         | 215kB 2.8MB/s eta 0:00:01\r\u001b[K     |███████████████████████▉        | 225kB 2.8MB/s eta 0:00:01\r\u001b[K     |█████████████████████████       | 235kB 2.8MB/s eta 0:00:01\r\u001b[K     |██████████████████████████      | 245kB 2.8MB/s eta 0:00:01\r\u001b[K     |███████████████████████████     | 256kB 2.8MB/s eta 0:00:01\r\u001b[K     |████████████████████████████▏   | 266kB 2.8MB/s eta 0:00:01\r\u001b[K     |█████████████████████████████▎  | 276kB 2.8MB/s eta 0:00:01\r\u001b[K     |██████████████████████████████▍ | 286kB 2.8MB/s eta 0:00:01\r\u001b[K     |███████████████████████████████▍| 296kB 2.8MB/s eta 0:00:01\r\u001b[K     |████████████████████████████████| 307kB 2.8MB/s \n",
            "\u001b[?25hRequirement already satisfied: numpy in /usr/local/lib/python3.6/dist-packages (from lightfm) (1.18.5)\n",
            "Requirement already satisfied: scipy>=0.17.0 in /usr/local/lib/python3.6/dist-packages (from lightfm) (1.4.1)\n",
            "Requirement already satisfied: requests in /usr/local/lib/python3.6/dist-packages (from lightfm) (2.23.0)\n",
            "Requirement already satisfied: certifi>=2017.4.17 in /usr/local/lib/python3.6/dist-packages (from requests->lightfm) (2020.6.20)\n",
            "Requirement already satisfied: chardet<4,>=3.0.2 in /usr/local/lib/python3.6/dist-packages (from requests->lightfm) (3.0.4)\n",
            "Requirement already satisfied: urllib3!=1.25.0,!=1.25.1,<1.26,>=1.21.1 in /usr/local/lib/python3.6/dist-packages (from requests->lightfm) (1.24.3)\n",
            "Requirement already satisfied: idna<3,>=2.5 in /usr/local/lib/python3.6/dist-packages (from requests->lightfm) (2.10)\n",
            "Building wheels for collected packages: lightfm\n",
            "  Building wheel for lightfm (setup.py) ... \u001b[?25l\u001b[?25hdone\n",
            "  Created wheel for lightfm: filename=lightfm-1.15-cp36-cp36m-linux_x86_64.whl size=707613 sha256=668c502db757405a54d5237cbc42cebf46abc8d331e502b17a9206882fa26663\n",
            "  Stored in directory: /root/.cache/pip/wheels/eb/bb/ac/188385a5da6627956be5d9663928483b36da576149ab5b8f79\n",
            "Successfully built lightfm\n",
            "Installing collected packages: lightfm\n",
            "Successfully installed lightfm-1.15\n"
          ],
          "name": "stdout"
        }
      ]
    },
    {
      "cell_type": "code",
      "metadata": {
        "id": "h-6wsHDAih_Z",
        "colab_type": "code",
        "colab": {}
      },
      "source": [
        "import numpy as np\n",
        "from lightfm.datasets import fetch_movielens\n",
        "from lightfm import LightFM"
      ],
      "execution_count": null,
      "outputs": []
    },
    {
      "cell_type": "code",
      "metadata": {
        "id": "B_MHk9YKiq6R",
        "colab_type": "code",
        "colab": {}
      },
      "source": [
        "#fetching data and fromtating it.\n",
        "# storing the dataset in variable \"data\"\n",
        "data = fetch_movielens(min_rating = 4.0)\n",
        "#only collecting movies with ratings 4 or higher"
      ],
      "execution_count": null,
      "outputs": []
    },
    {
      "cell_type": "code",
      "metadata": {
        "id": "cZoaC0_0jdOn",
        "colab_type": "code",
        "colab": {
          "base_uri": "https://localhost:8080/",
          "height": 218
        },
        "outputId": "c64cc424-bf97-453b-a443-0fbd07b4298f"
      },
      "source": [
        "data\n",
        "#fetch_movielens creates an interaction matrix from the method's csv file and then stores it in \"data\" as a dictionary"
      ],
      "execution_count": null,
      "outputs": [
        {
          "output_type": "execute_result",
          "data": {
            "text/plain": [
              "{'item_feature_labels': array(['Toy Story (1995)', 'GoldenEye (1995)', 'Four Rooms (1995)', ...,\n",
              "        'Sliding Doors (1998)', 'You So Crazy (1994)',\n",
              "        'Scream of Stone (Schrei aus Stein) (1991)'], dtype=object),\n",
              " 'item_features': <1682x1682 sparse matrix of type '<class 'numpy.float32'>'\n",
              " \twith 1682 stored elements in Compressed Sparse Row format>,\n",
              " 'item_labels': array(['Toy Story (1995)', 'GoldenEye (1995)', 'Four Rooms (1995)', ...,\n",
              "        'Sliding Doors (1998)', 'You So Crazy (1994)',\n",
              "        'Scream of Stone (Schrei aus Stein) (1991)'], dtype=object),\n",
              " 'test': <943x1682 sparse matrix of type '<class 'numpy.int32'>'\n",
              " \twith 5469 stored elements in COOrdinate format>,\n",
              " 'train': <943x1682 sparse matrix of type '<class 'numpy.int32'>'\n",
              " \twith 49906 stored elements in COOrdinate format>}"
            ]
          },
          "metadata": {
            "tags": []
          },
          "execution_count": 5
        }
      ]
    },
    {
      "cell_type": "code",
      "metadata": {
        "id": "nPv-to0pjiW4",
        "colab_type": "code",
        "colab": {
          "base_uri": "https://localhost:8080/",
          "height": 34
        },
        "outputId": "ff9e6b6e-c4ac-4c69-f6ef-6a7e375c0185"
      },
      "source": [
        "len(data)"
      ],
      "execution_count": null,
      "outputs": [
        {
          "output_type": "execute_result",
          "data": {
            "text/plain": [
              "5"
            ]
          },
          "metadata": {
            "tags": []
          },
          "execution_count": 6
        }
      ]
    },
    {
      "cell_type": "code",
      "metadata": {
        "id": "gEwPIk8ljmQS",
        "colab_type": "code",
        "colab": {
          "base_uri": "https://localhost:8080/",
          "height": 84
        },
        "outputId": "b800c8b7-6953-4ca4-eb86-44d67f2e14d5"
      },
      "source": [
        "#print training and testing data\n",
        "#fetch_movielens splits our dataset into training and testing data\n",
        "print(repr(data['train']))\n",
        "print(repr(data['test']))\n",
        "#We have two such matrices, a training and a testing set. Both have around 1000 users and 1700 items. We’ll train the model on the train matrix but test it on the test matrix."
      ],
      "execution_count": null,
      "outputs": [
        {
          "output_type": "stream",
          "text": [
            "<943x1682 sparse matrix of type '<class 'numpy.int32'>'\n",
            "\twith 49906 stored elements in COOrdinate format>\n",
            "<943x1682 sparse matrix of type '<class 'numpy.int32'>'\n",
            "\twith 5469 stored elements in COOrdinate format>\n"
          ],
          "name": "stdout"
        }
      ]
    },
    {
      "cell_type": "code",
      "metadata": {
        "id": "E-IU8oshjxMy",
        "colab_type": "code",
        "colab": {
          "base_uri": "https://localhost:8080/",
          "height": 50
        },
        "outputId": "e818760f-3600-467a-8be3-a0f59dbc13b9"
      },
      "source": [
        "data['train']"
      ],
      "execution_count": null,
      "outputs": [
        {
          "output_type": "execute_result",
          "data": {
            "text/plain": [
              "<943x1682 sparse matrix of type '<class 'numpy.int32'>'\n",
              "\twith 49906 stored elements in COOrdinate format>"
            ]
          },
          "metadata": {
            "tags": []
          },
          "execution_count": 8
        }
      ]
    },
    {
      "cell_type": "code",
      "metadata": {
        "id": "26tnwflUj87d",
        "colab_type": "code",
        "colab": {}
      },
      "source": [
        "#creating our model\n",
        "model = LightFM(loss = 'warp')\n",
        "# loss is a parametetr in LightFM for a loss function for minimizing the loss\n",
        "# warp = Weighted Approximate Rank Pairwise\n",
        "# warp helps us create recommendations for each user and looking at existing user-rating pairs and predicting rankings for each\n",
        "# uses gradient descent algorithm to iteratively find the weights that imporve our prediction over time\n",
        "# it's a hybrid system => Collaborative(Similar Users' ratings) + Content(User's past rating history)"
      ],
      "execution_count": null,
      "outputs": []
    },
    {
      "cell_type": "code",
      "metadata": {
        "id": "jkb71PCkkCv4",
        "colab_type": "code",
        "colab": {
          "base_uri": "https://localhost:8080/",
          "height": 34
        },
        "outputId": "e90e09fa-6f56-42fe-98ec-c29ab378f9c2"
      },
      "source": [
        "#train model\n",
        "model.fit(data['train'], epochs = 30, num_threads = 2)\n",
        "#number of epochs = number of runs for this training session"
      ],
      "execution_count": null,
      "outputs": [
        {
          "output_type": "execute_result",
          "data": {
            "text/plain": [
              "<lightfm.lightfm.LightFM at 0x7fd9fe7b2dd8>"
            ]
          },
          "metadata": {
            "tags": []
          },
          "execution_count": 10
        }
      ]
    },
    {
      "cell_type": "code",
      "metadata": {
        "id": "oZpqUycBkGDr",
        "colab_type": "code",
        "colab": {}
      },
      "source": [
        "#generating recommendation\n",
        "#user ids parameter is a list of user ids, users that we wanna generate recommendations for\n",
        "def sample_recommendation(model, data, user_ids):\n",
        "\n",
        "    #number of users and movies in training data\n",
        "    n_users, n_items = data['train'].shape\n",
        "\n",
        "    #generate recommendations for each user we input\n",
        "    for user_id in user_ids:\n",
        "\n",
        "        #movies they already like\n",
        "        #LightFM, to make the problem simpler, classifies 5 as positive and 4 or below as negative\n",
        "        known_positives = data['item_labels'][data['train'].tocsr()[user_id].indices]\n",
        "        #Compressed Sparse Row Format\n",
        "        #[data['train'].tocsr()[user_id].indices] is a subarray indside of the data matrix which we'll retrieve using indices attribute\n",
        "\n",
        "        #now we generate recommendations and store them in 'scores' variable using the predict method of our model\n",
        "        # we'll use the user_id as the 1st parameter, and then a ist of each movie\n",
        "        #using the 'arange' method of numpy, gives us every number from 0 upto the no. of items,\n",
        "        # so we can predict the score for every movie\n",
        "\n",
        "        #HENCE, movies our model predicts they will like\n",
        "        scores = model.predict(user_id, np.arange(n_items))\n",
        "\n",
        "        #rank them in order of their score\n",
        "        # the 'argsort' method of numpy will return the score indices in descending order, bc of '-' sign\n",
        "        top_items = data['item_labels'][np.argsort(-scores)]\n",
        "\n",
        "        #print the results\n",
        "        print(\"User %s\" % user_id)\n",
        "        print(\"     Known positives:\")\n",
        "\n",
        "        #printing the top 3 known +ve movies the user has picked\n",
        "        for x in known_positives[:3]:\n",
        "            print(\"        %s\" % x)\n",
        "\n",
        "        print(\"     Recommended:\")\n",
        "\n",
        "\n",
        "        #Printing the top3 recommended movies that our model predicts\n",
        "        for x in top_items[:3]:\n",
        "            print(\"        %s\" % x)"
      ],
      "execution_count": null,
      "outputs": []
    },
    {
      "cell_type": "code",
      "metadata": {
        "id": "f0rMUXEdkLYS",
        "colab_type": "code",
        "colab": {
          "base_uri": "https://localhost:8080/",
          "height": 470
        },
        "outputId": "ae513274-c3dc-46ca-bd8f-29f3c87afbb1"
      },
      "source": [
        "sample_recommendation(model, data, [5, 69, 232])"
      ],
      "execution_count": null,
      "outputs": [
        {
          "output_type": "stream",
          "text": [
            "User 5\n",
            "     Known positives:\n",
            "        Toy Story (1995)\n",
            "        Babe (1995)\n",
            "        Dead Man Walking (1995)\n",
            "     Recommended:\n",
            "        Casablanca (1942)\n",
            "        Vertigo (1958)\n",
            "        North by Northwest (1959)\n",
            "User 69\n",
            "     Known positives:\n",
            "        Toy Story (1995)\n",
            "        Babe (1995)\n",
            "        Rumble in the Bronx (1995)\n",
            "     Recommended:\n",
            "        Raiders of the Lost Ark (1981)\n",
            "        Star Wars (1977)\n",
            "        Empire Strikes Back, The (1980)\n",
            "User 232\n",
            "     Known positives:\n",
            "        Dead Man Walking (1995)\n",
            "        Postino, Il (1994)\n",
            "        Taxi Driver (1976)\n",
            "     Recommended:\n",
            "        Star Wars (1977)\n",
            "        Raiders of the Lost Ark (1981)\n",
            "        Silence of the Lambs, The (1991)\n"
          ],
          "name": "stdout"
        }
      ]
    },
    {
      "cell_type": "code",
      "metadata": {
        "id": "YbRQZz3_kN8c",
        "colab_type": "code",
        "colab": {}
      },
      "source": [
        ""
      ],
      "execution_count": null,
      "outputs": []
    }
  ]
}